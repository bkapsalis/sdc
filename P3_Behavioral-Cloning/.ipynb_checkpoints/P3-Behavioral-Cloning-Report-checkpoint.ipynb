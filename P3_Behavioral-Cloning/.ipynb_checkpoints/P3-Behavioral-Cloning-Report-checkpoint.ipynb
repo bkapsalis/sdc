{
 "cells": [
  {
   "cell_type": "markdown",
   "metadata": {
    "deletable": true,
    "editable": true
   },
   "source": [
    "# **Behavioral Cloning** \n",
    "\n",
    "\n",
    "\n",
    "---\n",
    "\n",
    "**Behavrioal Cloning Project**\n",
    "\n",
    "The goals / steps of this project are the following:\n",
    "* Use the simulator to collect data of good driving behavior\n",
    "* Build, a convolution neural network in Keras that predicts steering angles from images\n",
    "* Train and validate the model with a training and validation set\n",
    "* Test that the model successfully drives around track one without leaving the road\n",
    "* Summarize the results P3-Behavioral-Cloning-Report\n",
    "\n",
    "\n",
    "---\n",
    "### Files Submitted & Code Quality\n",
    "\n",
    "#### 1. Files used to run the simulator in autonomous mode\n",
    "\n",
    "My project includes the following files:\n",
    "* model.py containing the script to create and train the model\n",
    "* drive.py for driving the car in autonomous mode\n",
    "* model.h5 containing a trained convolution neural network \n",
    "* summarizing the results in P3-Behavioral-Cloning-Report.ipynb\n",
    "\n",
    "#### 2. Submission includes functional code\n",
    "Using the Udacity provided simulator and my drive.py file, the car can be driven autonomously around the track by executing \n",
    "```sh\n",
    "python drive.py model.h5\n",
    "```\n",
    "\n",
    "#### 3. Submission code \n",
    "\n",
    "The model.py file contains the code for training and saving the convolution neural network. The file shows the pipeline I used for training and validating the model, and it contains comments to explain how the code works.\n",
    "\n",
    "### Model Architecture and Training Strategy\n",
    "\n",
    "#### 1. Model Arcthiecture Employed\n",
    "\n",
    "My model consists of a convolution neural network with 5 convolutional layer. The first 3 layer have 5x5 filters and the next 2 have 3x3 filter sizes (model.py lines 76-80) \n",
    "\n",
    "The model includes RELU layers to introduce nonlinearity (code lines 76-80), and the data is normalized in the model using a Keras lambda layer (code line 74). \n",
    "\n",
    "The it had a flatten layer followed by fully connected layers of 100, 50 10, 1.\n",
    "\n",
    "\n",
    "\n",
    "#### 2. Attempts to reduce overfitting in the model\n",
    "\n",
    "The model contains subsample = (2,2) in the first 3 convolutional layer, in order to reduce overfitting (model.py lines 76-78). Also, the number of iterations were reduced to prevent overfitting.\n",
    "\n",
    "The model was trained and validated on different data sets to ensure that the model was not overfitting (code line 23, 68-69, 88). The model was tested by running it through the simulator and ensuring that the vehicle could stay on the track.\n",
    "\n",
    "\n",
    "\n",
    "#### 3. Model parameter tuning\n",
    "\n",
    "The model used an adam optimizer, so the learning rate was not tuned manually (model.py line 87).\n",
    "\n",
    "#### 4. Appropriate training data\n",
    "\n",
    "Training data was used to teach the vehicle to driving on the road. I used the given data. It had a combination of center lane driving, recovering from the left and right sides of the road. \n",
    "\n",
    "\n",
    "\n",
    "### Model Architecture and Training Strategy\n",
    "\n",
    "#### 1. Solution Design Approach\n",
    "\n",
    "The overall strategy for deriving a model architecture was to a model similar to nvidia.\n",
    "\n",
    "My first step was to use a convolution neural network model similar to the LeNet. Then I tried Nvidia. This model have better results and was used in the final version.\n",
    "\n",
    "In order to gauge how well the model was working, I split my image and steering angle data into a training and validation set. I found that my first model had a low mean squared error on the training set but a high mean squared error on the validation set. This implied that the model was overfitting. \n",
    "\n",
    "I reduced the overfitting and improved the model by reducing the iterations and stopping training before overfitting.\n",
    "\n",
    "The final step was to run the simulator to see how well the car was driving around track one. There were a few spots where the vehicle fell off the track. Then I tried many different number of iterations and different batch sizes. I notied too many iterations some times caused overfitting. To few iterations resulted in underfitting. Also, larger batch size resulted in a smoother/straighter steering. Batch sizes that were too large would make the model to general and the car would smoothly drive off the road. And a batch size that was too small resulted in oversteering with constant left and right corrections.\n",
    "\n",
    "At the end of the process a balance was reached and the vehicle is able to drive autonomously around the track without leaving the road. This was successfully repeated four times.\n",
    "\n",
    "#### 2. Final Model Architecture\n",
    "Keras was used to create a Convolutional Neural Network(model.py lines 74-85). The input data was normalized to a mean of zero with a small standard deviation.\n",
    "\n",
    "The images were cropped to remove pixels not needed to predict turning angles. This resulted in shorter processing time.\n",
    "\n",
    "The mode consisted of 5  Convolutional 2D layers with increasing depths of 24, 36, 48, 64, 64. The first 3 layers had kernels of 5X5 and the next 2 layers had kernels of 3X3. Then the data was flatted followed be four fully connected layers of 100, 50, 10 and 1. Relu activation was used."
   ]
  },
  {
   "cell_type": "markdown",
   "metadata": {
    "deletable": true,
    "editable": true
   },
   "source": [
    "I used a network similar to Nvidia. \n",
    "Nnidia Image:\n",
    "\n",
    "![Nvidia](examples/nvidia_s.png)"
   ]
  },
  {
   "cell_type": "markdown",
   "metadata": {
    "deletable": true,
    "editable": true
   },
   "source": [
    "\n",
    "#### 3. Creation of the Training Set & Training Process\n",
    "\n",
    "To capture good driving behavior, I used the provided data. Here is an example image of camera center lane driving:\n",
    "###### Camera Center Image:\n",
    "![Camera Center image](examples/center.jpg)\n",
    "\n",
    "The camera left and camera right images were also used to train the data.\n",
    "###### Camera Left Image:\n",
    "![Camera Left Image](examples/left.jpg)\n",
    "###### Camera Right Image:\n",
    "![Camera Right Image](examples/right.jpg)\n",
    "\n",
    "These images had a correction factor of plus or minus 0.2 added to the steering image. These resulted in a greater steering angle when the car was to close to the side of the road causing the car to steer toward the center of the road.\n",
    "\n",
    "Also each image was flipped along the horizontal axis.\n",
    "###### Regular Image:\n",
    "\n",
    "![Regular Image](examples/center_not_flipped.jpg)\n",
    "###### Flipped Image:\n",
    "![Flipped Images](examples/center_flipped.jpg)\n",
    "\n",
    "This prevented overfitting to left turns only.\n",
    "\n",
    "After the collection process, I ran 80% of the the data as training data and held 20% as validation data. When I had a model working good I increased the training set to 95% of the data and 5% saved for the validation set. After fine tuning the results improved. \n",
    "\n",
    "A Generator was used to feed in this large amount of data into the Neural Network.\n",
    "I also used an Amazon Web Services instance of an EC2 gpu to decrease process.\n",
    "\n",
    "\n",
    "Although I did set a random seed and set the 'train_test_split' and 'sklearn.utils.shuffle' functions to use random_state I continued to have slightly different validation losses. I ran the model 4 seperate times with out changeing the code and had losses of 0.0149, 0.0151, 0.0161 and 0.0152. All four resulted in the car making it around track one. I used the beta version for mac. The car made it around all four times. I tried to create a result video as the direction in the readme instructed but I received an error. I entered 'python drive.py model.h5 run1' in the mac terminal and the error message I reseved was 'drive.py: error: unrecognized arguments: run1'.\n",
    "\n",
    "I finally randomly shuffled the data set and put 5% of the data into a validation set. \n",
    "\n",
    "I used this training data for training the model. The validation set helped determine if the model was over or under fitting. The ideal number of epochs was 2 with a batch size of 15. I used an adam optimizer so that manually training the learning rate wasn't necessary. "
   ]
  },
  {
   "cell_type": "markdown",
   "metadata": {
    "deletable": true,
    "editable": true
   },
   "source": [
    "### Conclusion\n",
    "This project demonstrates the awesome predictive power of Keras/Tensorflow Convolutional Neural Network to predict steering angles form the images of a road. The added processing power of AWS gpu made this process much faster. Future considerations include changing the images orentation by just a few pixesl to add more data and make the model more robust. Also, training the model on other tracks would make the model more generalized. This was a stimulating challenging project that I enjoyed very much."
   ]
  },
  {
   "cell_type": "markdown",
   "metadata": {
    "deletable": true,
    "editable": true
   },
   "source": [
    "### Sources \n",
    "\n",
    "- https://devblogs.nvidia.com/parallelforall/deep-learning-self-driving-cars/\n",
    "\n",
    "- http://stackoverflow.com/questions/32370281/how-to-include-image-or-picture-in-jupyter-notebook\n",
    "\n",
    "- https://www.youtube.com/watch?v=rpxZ87YFg0M&feature=youtu.be&utm_medium=email&utm_campaign=2017-02-06_carnd_endofterm_october&utm_source=blueshift&utm_content=2017-02-06_carnd_endofterm_october&bsft_eid=57312ccc-f477-4491-a3bb-4adc60478956&bsft_clkid=cb45bdb4-8faf-4131-81f8-2804b0cb0c06&bsft_uid=2cc1f5ed-6183-4dd8-9527-27ab8640af5c&bsft_mid=fd02f156-fbb1-4719-9868-b9cdf50e0533\n",
    "\n",
    "- https://us-west-1.console.aws.amazon.com/ec2/v2/home?region=us-west-1#Instances:sort=monitoring\n",
    "\n",
    "- https://keras.io/models/sequential/\n",
    "\n",
    "- http://scikit-learn.org/stable/modules/generated/sklearn.utils.shuffle.html"
   ]
  }
 ],
 "metadata": {
  "kernelspec": {
   "display_name": "Python 3",
   "language": "python",
   "name": "python3"
  },
  "language_info": {
   "codemirror_mode": {
    "name": "ipython",
    "version": 3
   },
   "file_extension": ".py",
   "mimetype": "text/x-python",
   "name": "python",
   "nbconvert_exporter": "python",
   "pygments_lexer": "ipython3",
   "version": "3.5.2"
  },
  "widgets": {
   "state": {},
   "version": "1.1.2"
  }
 },
 "nbformat": 4,
 "nbformat_minor": 2
}
