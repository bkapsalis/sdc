{
 "cells": [
  {
   "cell_type": "markdown",
   "metadata": {},
   "source": [
    "## P3 test"
   ]
  },
  {
   "cell_type": "code",
   "execution_count": 2,
   "metadata": {
    "collapsed": false
   },
   "outputs": [
    {
     "name": "stdout",
     "output_type": "stream",
     "text": [
      "8036\n",
      "6428\n",
      "Epoch 1/3\n",
      "19200/19284 [============================>.] - ETA: 1s - loss: 0.08051608\n",
      "19284/19284 [==============================] - 308s - loss: 0.0803 - val_loss: 0.0218\n",
      "Epoch 2/3\n",
      "19284/19284 [==============================] - 296s - loss: 0.0200 - val_loss: 0.0191\n",
      "Epoch 3/3\n",
      "19284/19284 [==============================] - 291s - loss: 0.0183 - val_loss: 0.0182\n"
     ]
    }
   ],
   "source": [
    "import os\n",
    "import csv\n",
    "import cv2\n",
    "import numpy as np\n",
    "\n",
    "import sklearn\n",
    "\n",
    "import sklearn\n",
    "import keras\n",
    "from keras.models import Sequential\n",
    "from keras.layers import Flatten, Dense, Lambda\n",
    "#from keras.layers.core import Dense, Activation, Flatten, Lambda\n",
    "from keras.layers.convolutional import Convolution2D, Cropping2D\n",
    "from keras.layers.pooling import MaxPooling2D \n",
    "\n",
    "samples = []\n",
    "with open('./data/driving_log.csv') as csvfile:\n",
    "    reader = csv.reader(csvfile)\n",
    "    next(reader,None)\n",
    "    for line in reader:\n",
    "        samples.append(line)\n",
    "\n",
    "from sklearn.model_selection import train_test_split\n",
    "train_samples, validation_samples = train_test_split(samples, test_size=0.2)\n",
    "\n",
    "\n",
    "\n",
    "print(len(samples))\n",
    "def generator(samples, batch_size=32):\n",
    "    num_samples = (len(samples))\n",
    "    print(num_samples)\n",
    "    \n",
    "    while 1: # Loop forever so the generator never terminates\n",
    "        np.random.shuffle(samples)\n",
    "        for offset in range(0, num_samples, batch_size):\n",
    "            batch_samples = samples[offset:offset+batch_size]\n",
    "\n",
    "            images = []\n",
    "            angles = []\n",
    "            for batch_sample in batch_samples:\n",
    "                for i in range(3):\n",
    "                    name = './data/IMG/'+batch_sample[i].split('/')[-1]\n",
    "                    image = cv2.imread(name)\n",
    "                    images.append(image)\n",
    "                    \n",
    "                    \n",
    "                    \n",
    "                correction = 0.2    \n",
    "                angle = float(batch_sample[3])\n",
    "                angles.append(angle)\n",
    "                angles.append(angle+correction)\n",
    "                angles.append(angle-correction)\n",
    "                \n",
    "            augmented_images = []\n",
    "            augmented_angles = []\n",
    "            for image, angle in zip(images, angles):\n",
    "                augmented_images.append(image)\n",
    "                augmented_angles.append(angle)\n",
    "                flipped_image = cv2.flip(image, 1)\n",
    "                flipped_angle = float(angle) * -1.0\n",
    "                augmented_images.append(flipped_image)\n",
    "                augmented_angles.append(flipped_angle)\n",
    "\n",
    "                \n",
    "                \n",
    "                \n",
    "            # trim image to only see section with road\n",
    "            X_train = np.array(images)\n",
    "            y_train = np.array(angles)\n",
    "            #print(X_train, y_train)\n",
    "            \n",
    "            yield sklearn.utils.shuffle(X_train, y_train)\n",
    "            #return sklearn.utils.shuffle(X_train, y_train)\n",
    "\n",
    "# compile and train the model using the generator function\n",
    "train_generator = generator(train_samples, batch_size=32)\n",
    "validation_generator = generator(validation_samples, batch_size=32)\n",
    "\n",
    "#ch, row, col = 3, 80, 320  # Trimmed image format\n",
    "#ch, row, col = 3, 160, 320  # Trimmed image format\n",
    "model = Sequential()\n",
    "# Preprocess incoming data, centered around zero with small standard deviation \n",
    "#model.add(Lambda(lambda x: x/127.5 - 1.,\n",
    "#        input_shape=(ch, row, col),\n",
    "#        output_shape=(ch, row, col)))\n",
    "model.add(Lambda(lambda x: x/ 255.0 - 0.5, input_shape= (160,320,3)))\n",
    "model.add(Cropping2D(cropping=((70, 25), (0,0))))\n",
    "model.add(Convolution2D(6,5, 5, activation='relu'))#liky relu\n",
    "model.add(MaxPooling2D())\n",
    "model.add(Convolution2D(16,5, 5, activation='relu'))\n",
    "model.add(MaxPooling2D())\n",
    "model.add(Flatten())\n",
    "model.add(Dense(120))\n",
    "model.add(Dense(84))\n",
    "model.add(Dense(1))\n",
    "model.compile(loss='mse', optimizer='adam')\n",
    "model.fit_generator(train_generator, samples_per_epoch= len(train_samples)*3, validation_data=validation_generator, nb_val_samples=len(validation_samples)*3, nb_epoch=3)\n",
    "model.save('model.h5')"
   ]
  },
  {
   "cell_type": "code",
   "execution_count": null,
   "metadata": {
    "collapsed": true
   },
   "outputs": [],
   "source": []
  }
 ],
 "metadata": {
  "anaconda-cloud": {},
  "kernelspec": {
   "display_name": "Python [python3Environment]",
   "language": "python",
   "name": "Python [python3Environment]"
  },
  "language_info": {
   "codemirror_mode": {
    "name": "ipython",
    "version": 3
   },
   "file_extension": ".py",
   "mimetype": "text/x-python",
   "name": "python",
   "nbconvert_exporter": "python",
   "pygments_lexer": "ipython3",
   "version": "3.5.2"
  }
 },
 "nbformat": 4,
 "nbformat_minor": 0
}
